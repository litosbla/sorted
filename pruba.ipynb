{
 "cells": [
  {
   "cell_type": "markdown",
   "metadata": {},
   "source": [
    " # primer response"
   ]
  },
  {
   "cell_type": "code",
   "execution_count": 29,
   "metadata": {},
   "outputs": [],
   "source": [
    "\n",
    "todos={\n",
    "    \"1\": {\n",
    "        \n",
    "    \"Grado\":1,\n",
    "    \"Nota\": 5,},\n",
    "\"2\":{\n",
    "    \"Grado\": 2,\n",
    "    \"Nota\": 3,\n",
    "    },\n",
    "\"3\":{\n",
    "    \"Grado\": 3,\n",
    "    \"Nota\": 5,\n",
    "    },\n",
    "\"4\":{\n",
    "    \"Grado\": 3,\n",
    "    \"Nota\": 3,\n",
    "    },\n",
    "\"5\":{\n",
    "    \"Grado\": 2,\n",
    "    \"Nota\": 1,\n",
    "    },\n",
    "\"6\":{\n",
    "    \"Grado\": 2,\n",
    "    \"Nota\": 3,\n",
    "    },\n",
    "\"7\":{\n",
    "    \"Grado\": 2,\n",
    "    \"Nota\": 5,\n",
    "    }\n",
    "}"
   ]
  },
  {
   "cell_type": "markdown",
   "metadata": {},
   "source": []
  },
  {
   "cell_type": "code",
   "execution_count": 31,
   "metadata": {},
   "outputs": [
    {
     "name": "stdout",
     "output_type": "stream",
     "text": [
      "{1: 5, 2: 12, 3: 8}\n"
     ]
    }
   ],
   "source": [
    "todos_by_grade = {\"2\":5}\n",
    "for key,todo in todos.items():\n",
    "    try:\n",
    "        todos_by_grade[todo[\"Grado\"]]+=todo[\"Nota\"]\n",
    "    except KeyError:\n",
    "        todos_by_grade[todo[\"Grado\"]]=todo[\"Nota\"]\n",
    "print(todos_by_grade)"
   ]
  },
  {
   "cell_type": "code",
   "execution_count": 32,
   "metadata": {},
   "outputs": [
    {
     "name": "stdout",
     "output_type": "stream",
     "text": [
      "[(2, 12), (3, 8), (1, 5)]\n"
     ]
    },
    {
     "data": {
      "text/plain": [
       "[0, 1, 4, 9]"
      ]
     },
     "execution_count": 32,
     "metadata": {},
     "output_type": "execute_result"
    }
   ],
   "source": [
    "top_users = sorted(todos_by_grade.items(), \n",
    "                   key=lambda x: x[1], reverse=True)\n",
    "#sorted(valores,key=lambda x: f(x), reverse=)\n",
    "print(top_users)\n",
    "[x**2 for x in range(4)]"
   ]
  },
  {
   "cell_type": "code",
   "execution_count": 19,
   "metadata": {},
   "outputs": [
    {
     "data": {
      "text/plain": [
       "[0, 1, 4, 9]"
      ]
     },
     "execution_count": 19,
     "metadata": {},
     "output_type": "execute_result"
    }
   ],
   "source": [
    "[x**2 for x in range(4)]\n",
    "#[f(x) for x in iterable()]"
   ]
  },
  {
   "cell_type": "code",
   "execution_count": 22,
   "metadata": {},
   "outputs": [
    {
     "data": {
      "text/plain": [
       "5"
      ]
     },
     "execution_count": 22,
     "metadata": {},
     "output_type": "execute_result"
    }
   ],
   "source": [
    "top_users[0][1]"
   ]
  },
  {
   "cell_type": "code",
   "execution_count": null,
   "metadata": {},
   "outputs": [],
   "source": []
  }
 ],
 "metadata": {
  "kernelspec": {
   "display_name": "Python 3",
   "language": "python",
   "name": "python3"
  },
  "language_info": {
   "codemirror_mode": {
    "name": "ipython",
    "version": 3
   },
   "file_extension": ".py",
   "mimetype": "text/x-python",
   "name": "python",
   "nbconvert_exporter": "python",
   "pygments_lexer": "ipython3",
   "version": "3.10.12"
  },
  "orig_nbformat": 4
 },
 "nbformat": 4,
 "nbformat_minor": 2
}
